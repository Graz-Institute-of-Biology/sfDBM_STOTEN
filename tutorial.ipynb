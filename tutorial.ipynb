{
 "cells": [
  {
   "cell_type": "markdown",
   "id": "dff5bea7-87a0-46de-89ab-eb148643fd8b",
   "metadata": {},
   "source": [
    "This notebook is to run the simplified field scale desert biocrust model (dfDBM), published on the Science of Total Environment\n",
    "\n",
    "## Unravelling the main mechanism responsible for the nocturnal CO$_2$ uptake by dryland soils\n",
    "\n",
    "Minsu Kim$^{1,*}$, Clément Lopez-Canfin$^{2,3,*}$, Roberto Lázaro$^{4}$, Enrique P. Sánchez-Cañete$^{2,5}$, and Bettina Weber$^{1,6}$\n",
    "\n",
    "$^{1}$ Institute of Biology, University of Graz, Graz, Austria \n",
    "\n",
    "$^{2}$ Department of Applied Physics, University of Granada (UGR), Granada, Spain\n",
    "\n",
    "$^{3}$ Department of Plant and Soil Sciences, University of Delaware, Newark, DE, USA\n",
    "\n",
    "$^{4}$ Department of Desertification and Geo-Ecology, Experimental Station of Arid Zones (EEZA-CSIC), Almería, Spain\n",
    "\n",
    "$^{5}$ Inter-University Institute for Earth System Research (IISTA-CEAMA), Granada, Spain\n",
    "\n",
    "$^{6}$ Multiphase Chemistry, Max Planck Institute for Chemistry, Mainz, Germany\n",
    "\n",
    "Corresponding author: Minsu Kim\n",
    "\n",
    "email: minsu.kim@uni-graz.at\n",
    "\n",
    "OrcID: https://orcid.org/0000-0002-3942-3743\n"
   ]
  },
  {
   "cell_type": "markdown",
   "id": "d618db3f-4fc1-48a5-b4b5-397a78180fb9",
   "metadata": {},
   "source": [
    "Corresponding author: Minsu Kim \n",
    "\n",
    "email: minsu.kim@uni-graz.at\n",
    "\n",
    "OrcID: https://orcid.org/0000-0002-3942-3743"
   ]
  },
  {
   "cell_type": "code",
   "execution_count": 6,
   "id": "f8bb8a76-e518-4f71-a6f8-80da75c796cb",
   "metadata": {},
   "outputs": [],
   "source": [
    "# import functions and libraries\n",
    "import numpy as np\n",
    "import matplotlib.pyplot as plt\n",
    "import pandas as pd\n",
    "import glob\n",
    "from scipy.integrate import solve_ivp\n",
    "import os\n",
    "from functions import * # load functions used in this script"
   ]
  },
  {
   "cell_type": "code",
   "execution_count": 7,
   "id": "97d52097-87ef-4d2d-a189-39983d9e118f",
   "metadata": {},
   "outputs": [
    {
     "name": "stdout",
     "output_type": "stream",
     "text": [
      "sfDBM_PD_winter_with_reac_respif_0.0000\n"
     ]
    },
    {
     "ename": "NameError",
     "evalue": "name 'main_tabernas_biocrusts' is not defined",
     "output_type": "error",
     "traceback": [
      "\u001b[1;31m---------------------------------------------------------------------------\u001b[0m",
      "\u001b[1;31mNameError\u001b[0m                                 Traceback (most recent call last)",
      "Cell \u001b[1;32mIn[7], line 13\u001b[0m\n\u001b[0;32m     11\u001b[0m fname_target \u001b[38;5;241m=\u001b[39m \u001b[38;5;124m'\u001b[39m\u001b[38;5;124msfDBM_\u001b[39m\u001b[38;5;124m'\u001b[39m\u001b[38;5;241m+\u001b[39mcrust_name\u001b[38;5;241m+\u001b[39m\u001b[38;5;124m'\u001b[39m\u001b[38;5;124m_\u001b[39m\u001b[38;5;124m'\u001b[39m\u001b[38;5;241m+\u001b[39mrealTinput\u001b[38;5;241m+\u001b[39m\u001b[38;5;124m'\u001b[39m\u001b[38;5;124m_with_reac_respif_\u001b[39m\u001b[38;5;132;01m%.4f\u001b[39;00m\u001b[38;5;124m'\u001b[39m\u001b[38;5;241m%\u001b[39mrespif \n\u001b[0;32m     12\u001b[0m \u001b[38;5;28mprint\u001b[39m(fname_target)\n\u001b[1;32m---> 13\u001b[0m timeLine,effluxList, timeConcDist \u001b[38;5;241m=\u001b[39m \u001b[43mmain_tabernas_biocrusts\u001b[49m(PATH, crust_name, realTinput,respif, fname_target, filesave\u001b[38;5;241m=\u001b[39mfilesave, plotFigures\u001b[38;5;241m=\u001b[39mplotFigures,figuresave\u001b[38;5;241m=\u001b[39mfiguresave)\n",
      "\u001b[1;31mNameError\u001b[0m: name 'main_tabernas_biocrusts' is not defined"
     ]
    }
   ],
   "source": [
    "PATH = \"C:/Users/kimmi/Documents/GitHub/dfDBM_STOTEN\"\n",
    "\n",
    "filesave = True\n",
    "figuresave = False\n",
    "plotFigures = True\n",
    "\n",
    "crust_name = 'PD' # ['PD', 'MC', 'SD']\n",
    "realTinput = 'winter' #['winter', 'summer']\n",
    "respif = 0.0\n",
    "\n",
    "fname_target = 'sfDBM_'+crust_name+'_'+realTinput+'_with_reac_respif_%.4f'%respif \n",
    "print(fname_target)\n",
    "timeLine,effluxList, timeConcDist = main_tabernas_biocrusts(PATH, crust_name, realTinput,respif, fname_target, filesave=filesave, plotFigures=plotFigures,figuresave=figuresave)\n"
   ]
  },
  {
   "cell_type": "code",
   "execution_count": null,
   "id": "d210591b-63ce-49bf-999a-eada7c831fc0",
   "metadata": {},
   "outputs": [],
   "source": []
  }
 ],
 "metadata": {
  "kernelspec": {
   "display_name": "Python 3 (ipykernel)",
   "language": "python",
   "name": "python3"
  },
  "language_info": {
   "codemirror_mode": {
    "name": "ipython",
    "version": 3
   },
   "file_extension": ".py",
   "mimetype": "text/x-python",
   "name": "python",
   "nbconvert_exporter": "python",
   "pygments_lexer": "ipython3",
   "version": "3.10.9"
  }
 },
 "nbformat": 4,
 "nbformat_minor": 5
}
