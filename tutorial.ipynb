{
 "cells": [
  {
   "cell_type": "markdown",
   "id": "dff5bea7-87a0-46de-89ab-eb148643fd8b",
   "metadata": {},
   "source": [
    "This notebook is to run the simplified field scale desert biocrust model (dfDBM), published on the Science of Total Environment\n",
    "\n",
    "## Unravelling the main mechanism responsible for the nocturnal CO$_2$ uptake by dryland soils\n",
    "\n",
    "Minsu Kim$^{1,*}$, Clément Lopez-Canfin$^{2,3,*}$, Roberto Lázaro$^{4}$, Enrique P. Sánchez-Cañete$^{2,5}$, and Bettina Weber$^{1,6}$\n",
    "\n",
    "$^{1}$ Institute of Biology, University of Graz, Graz, Austria \n",
    "\n",
    "$^{2}$ Department of Applied Physics, University of Granada (UGR), Granada, Spain\n",
    "\n",
    "$^{3}$ Department of Plant and Soil Sciences, University of Delaware, Newark, DE, USA\n",
    "\n",
    "$^{4}$ Department of Desertification and Geo-Ecology, Experimental Station of Arid Zones (EEZA-CSIC), Almería, Spain\n",
    "\n",
    "$^{5}$ Inter-University Institute for Earth System Research (IISTA-CEAMA), Granada, Spain\n",
    "\n",
    "$^{6}$ Multiphase Chemistry, Max Planck Institute for Chemistry, Mainz, Germany\n",
    "\n",
    "Corresponding author: Minsu Kim\n",
    "\n",
    "email: minsu.kim@uni-graz.at\n",
    "\n",
    "OrcID: https://orcid.org/0000-0002-3942-3743\n"
   ]
  },
  {
   "cell_type": "code",
   "execution_count": 18,
   "id": "f8bb8a76-e518-4f71-a6f8-80da75c796cb",
   "metadata": {},
   "outputs": [],
   "source": [
    "# import functions and libraries\n",
    "import numpy as np\n",
    "import matplotlib.pyplot as plt\n",
    "import pandas as pd\n",
    "import glob\n",
    "from scipy.integrate import solve_ivp\n",
    "import os\n",
    "from main_sfDBM import * # load functions used in this script"
   ]
  },
  {
   "cell_type": "code",
   "execution_count": null,
   "id": "97d52097-87ef-4d2d-a189-39983d9e118f",
   "metadata": {},
   "outputs": [
    {
     "name": "stdout",
     "output_type": "stream",
     "text": [
      "sfDBM_PD_winter_with_reac_respif_0.0000\n",
      "Day 0 starts\n",
      "0.0\n",
      "24.0\n",
      "48.0\n",
      "72.0\n",
      "96.0\n",
      "120.0\n",
      "144.0\n",
      "168.0\n",
      "192.0\n",
      "216.0\n",
      "240.0\n",
      "264.0\n",
      "288.0\n",
      "312.0\n",
      "336.0\n",
      "360.0\n",
      "384.0\n",
      "408.0\n",
      "432.0\n",
      "456.0\n",
      "480.0\n",
      "504.0\n",
      "528.0\n",
      "552.0\n",
      "576.0\n",
      "600.0\n",
      "624.0\n",
      "648.0\n",
      "672.0\n",
      "696.0\n",
      "720.0\n"
     ]
    }
   ],
   "source": [
    "# Excuting the main function\n",
    "PATH = \".\"\n",
    "crust_name = 'PD' # ['PD', 'MC', 'SD']\n",
    "realTinput = 'winter' #['winter', 'summer']\n",
    "respif = 0\n",
    "filesave = True\n",
    "saveFigures = True\n",
    "plotFigures = True\n",
    "\n",
    "fname_target = 'sfDBM_'+crust_name+'_'+realTinput+'_with_reac_respif_%.4f'%respif \n",
    "print(fname_target)\n",
    "\n",
    "# Load pre-saved soil property data\n",
    "df_soil_r, df_obs, averageT = load_field_data_soil_properties(PATH, crust_name, realTinput)\n",
    "\n",
    "# run a main code of soil-gas exchange model (the simplified field DBM)\n",
    "timeLine,effluxList, timeConcDist = main_tabernas_biocrusts(PATH, crust_name, realTinput,respif, fname_target, filesave=filesave, plotFigures=plotFigures)\n",
    "\n",
    "if plotFigures:    \n",
    "    if respif == 0:\n",
    "        figure_title = crust_name+' ('+realTinput+')'\n",
    "    else:\n",
    "        figure_title = crust_name+' ('+realTinput+')'+'_with_respif_%.4f'%respif \n",
    "        print(figure_title)\n",
    "    \n",
    "    plot_results(PATH, figure_title,df_obs,effluxList,timeConcDist,timeLine,saveFigures=saveFigures) "
   ]
  },
  {
   "cell_type": "code",
   "execution_count": null,
   "id": "04a9266e-0990-41e9-8129-2f69704b59e8",
   "metadata": {},
   "outputs": [],
   "source": []
  }
 ],
 "metadata": {
  "kernelspec": {
   "display_name": "Python 3 (ipykernel)",
   "language": "python",
   "name": "python3"
  },
  "language_info": {
   "codemirror_mode": {
    "name": "ipython",
    "version": 3
   },
   "file_extension": ".py",
   "mimetype": "text/x-python",
   "name": "python",
   "nbconvert_exporter": "python",
   "pygments_lexer": "ipython3",
   "version": "3.10.13"
  }
 },
 "nbformat": 4,
 "nbformat_minor": 5
}
